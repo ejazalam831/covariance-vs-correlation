{
  "nbformat": 4,
  "nbformat_minor": 0,
  "metadata": {
    "colab": {
      "provenance": []
    },
    "kernelspec": {
      "name": "python3",
      "display_name": "Python 3"
    },
    "language_info": {
      "name": "python"
    }
  },
  "cells": [
    {
      "cell_type": "markdown",
      "source": [
        "# Covariance vs Correlation: Understanding Relationships in Data"
      ],
      "metadata": {
        "id": "_uxQBIrjJxQS"
      }
    },
    {
      "cell_type": "markdown",
      "source": [
        "**A Complete Guide to Measuring Relationships Between Variables**"
      ],
      "metadata": {
        "id": "zk2jYnE1J9rq"
      }
    },
    {
      "cell_type": "markdown",
      "source": [
        "#### Outline:\n",
        "1. Introduction: *Why Do Relationships Matter?*\n",
        "2. Understanding Covariance\n",
        "3. Understanding Correlation\n",
        "4. Covariance vs Correlation: *Key Differences*\n",
        "5. When to Use Which Measure"
      ],
      "metadata": {
        "id": "bECiQCQ_NUiD"
      }
    },
    {
      "cell_type": "markdown",
      "source": [
        "## 1. Introduction: Why Do Relationships Matter?\n",
        "\n",
        "Imagine trying to understand if there's a connection between two things in life, for example:\n",
        "- Does studying more hours lead to better exam scores?\n",
        "- Does exercising more frequently relate to better health?\n",
        "- Does experience in a job correlate with higher salary?\n",
        "\n",
        "In data science, we constantly ask: *\"How do these two variables relate to each other?\"*\n",
        "\n",
        "That's where **covariance** and **correlation** come in as our essential tools for measuring and\n",
        "understanding relationships between variables.\n",
        "\n",
        "They both help us with that, but in different ways."
      ],
      "metadata": {
        "id": "UN0rIF-1OC4i"
      }
    },
    {
      "cell_type": "markdown",
      "source": [
        "**Importing Libraries**\n",
        "\n",
        "Let's import the necessary libraries."
      ],
      "metadata": {
        "id": "Oh1Rj3vIR0pi"
      }
    },
    {
      "cell_type": "code",
      "execution_count": 1,
      "metadata": {
        "id": "pXm6-rjyJubC"
      },
      "outputs": [],
      "source": [
        "# Import required libraries\n",
        "import pandas as pd\n",
        "import numpy as np\n",
        "import matplotlib.pyplot as plt\n",
        "import seaborn as sns\n",
        "from scipy import stats"
      ]
    },
    {
      "cell_type": "markdown",
      "source": [
        "## 2. Understanding Covariance\n",
        "\n",
        "**Covariance** measures how two variables change together. It tells us:\n",
        "- Do they move in the **same direction**? (positive covariance)\n",
        "- Do they move in **opposite directions**? (negative covariance)\n",
        "- Do they **not move together** at all? (zero or near-zero covariance)\n",
        "\n",
        "#### The Formula:\n",
        "\n",
        "```\n",
        "Cov(X,Y) = Σ[(Xi - X̄)(Yi - Ȳ)] / (n-1)\n",
        "```\n",
        "\n",
        "Where:\n",
        "- *Xi* and *Yi* are individual data points\n",
        "- *X̄* and *Ȳ* are the means of X and Y\n",
        "- *n* is the number of observations"
      ],
      "metadata": {
        "id": "gsOe2QDUU3T4"
      }
    },
    {
      "cell_type": "markdown",
      "source": [
        "#### Example: Positive vs Negative Covariance"
      ],
      "metadata": {
        "id": "T3bqVkmwKB5b"
      }
    },
    {
      "cell_type": "code",
      "source": [
        "# Create simple datasets to illustrate the concept\n",
        "study_hours = np.array([1, 2, 3, 4, 5, 6, 7, 8, 9, 10])\n",
        "exam_scores = np.array([50, 55, 60, 65, 70, 75, 80, 85, 90, 95])\n",
        "\n",
        "print(f\"\\nExample Data (Positive Correlation)\")\n",
        "print(f\"Study Hours: {study_hours}\")\n",
        "print(f\"Exam Scores: {exam_scores}\")\n",
        "\n",
        "\n",
        "price = np.array([10, 20, 30, 40, 50, 60, 70, 80, 90, 100])\n",
        "demand = np.array([95, 90, 85, 80, 75, 70, 65, 60, 55, 50])\n",
        "\n",
        "print(f\"\\nExample Data (Negative Correlation)\")\n",
        "print(f\"Price: {price}\")\n",
        "print(f\"Demand: {demand}\")"
      ],
      "metadata": {
        "colab": {
          "base_uri": "https://localhost:8080/"
        },
        "id": "8wfVdeUFWw9C",
        "outputId": "766c7dba-2cde-4c90-b9eb-087acefff149"
      },
      "execution_count": 2,
      "outputs": [
        {
          "output_type": "stream",
          "name": "stdout",
          "text": [
            "\n",
            "Example Data (Positive Correlation)\n",
            "Study Hours: [ 1  2  3  4  5  6  7  8  9 10]\n",
            "Exam Scores: [50 55 60 65 70 75 80 85 90 95]\n",
            "\n",
            "Example Data (Negative Correlation)\n",
            "Price: [ 10  20  30  40  50  60  70  80  90 100]\n",
            "Demand: [95 90 85 80 75 70 65 60 55 50]\n"
          ]
        }
      ]
    },
    {
      "cell_type": "code",
      "source": [
        "# Visualize positive and negative covariance\n",
        "plt.figure(figsize=(10, 5))\n",
        "\n",
        "# Positive Covariance\n",
        "plt.subplot(1, 2, 1)\n",
        "mean_hours = np.mean(study_hours)\n",
        "mean_scores = np.mean(exam_scores)\n",
        "plt.scatter(study_hours, exam_scores, s=100, alpha=0.6, color='blue')\n",
        "plt.xlabel('Study Hours')\n",
        "plt.ylabel('Exam Scores')\n",
        "plt.title('Positive Covariance: Both Increase Together')\n",
        "\n",
        "# Negative Covariance\n",
        "plt.subplot(1, 2, 2)\n",
        "plt.scatter(price, demand, s=100, alpha=0.6, color='red')\n",
        "plt.xlabel('Price')\n",
        "plt.ylabel('Demand')\n",
        "plt.title('Negative Covariance: One Increases, Other Decreases')\n",
        "\n",
        "plt.tight_layout()\n",
        "plt.show()\n"
      ],
      "metadata": {
        "colab": {
          "base_uri": "https://localhost:8080/",
          "height": 507
        },
        "id": "qyQgRFHl8_9f",
        "outputId": "82565f16-667d-4fb8-873c-4eb5e4871231"
      },
      "execution_count": 4,
      "outputs": [
        {
          "output_type": "display_data",
          "data": {
            "text/plain": [
              "<Figure size 1000x500 with 2 Axes>"
            ],
            "image/png": "[encoded data removed]"
          },
          "metadata": {}
        }
      ]
    },
    {
      "cell_type": "markdown",
      "source": [
        "**Key Observations:**\n",
        "\n",
        "**Positive Covariance (Study Hours vs Exam Scores):**\n",
        "- As study hours increase, exam scores increase\n",
        "- Both variables move in the same direction\n",
        "- Covariance will be a positive number\n",
        "\n",
        "**Negative Covariance (Price vs Demand):**\n",
        "- As price increases, demand decreases\n",
        "- Variables move in opposite directions\n",
        "- Covariance will be a negative number"
      ],
      "metadata": {
        "id": "ixWcysd8QaD9"
      }
    },
    {
      "cell_type": "markdown",
      "source": [
        "#### Some Ways to Calculate Covariance"
      ],
      "metadata": {
        "id": "RGpqoHKYZT2D"
      }
    },
    {
      "cell_type": "markdown",
      "source": [
        "#### Method 1: Manual Calculation\n",
        "\n",
        "**Understanding the steps:**\n",
        "1. Calculate means of both variables\n",
        "2. Calculate `(Xi - X̄)(Yi - Ȳ)` for each pair\n",
        "3. Sum and divide by `(n-1)`"
      ],
      "metadata": {
        "id": "oqN0yZXijo0c"
      }
    },
    {
      "cell_type": "code",
      "source": [
        "mean_hours = np.mean(study_hours)\n",
        "mean_scores = np.mean(exam_scores)\n",
        "cov_manual = np.sum((study_hours - mean_hours) * (exam_scores - mean_scores)) / (len(study_hours) - 1)\n",
        "print(f\"Covariance (Manual): {cov_manual:.2f}\")"
      ],
      "metadata": {
        "colab": {
          "base_uri": "https://localhost:8080/"
        },
        "id": "iPmIBQ7XZTiC",
        "outputId": "e8d9f328-1492-422e-a927-4002b2caa719"
      },
      "execution_count": 7,
      "outputs": [
        {
          "output_type": "stream",
          "name": "stdout",
          "text": [
            "Covariance (Manual): 45.83\n"
          ]
        }
      ]
    },
    {
      "cell_type": "markdown",
      "source": [
        "#### Method 2: NumPy `cov()` function\n",
        "**Note:** `np.cov()` returns a 2×2 covariance matrix so we extract the `[0,1]` element for covariance between the two variables."
      ],
      "metadata": {
        "id": "FmqSeVeJkY_f"
      }
    },
    {
      "cell_type": "code",
      "source": [
        "cov_numpy = np.cov(study_hours, exam_scores)[0, 1]\n",
        "print(f\"Covariance (NumPy): {cov_numpy:.2f}\")\n",
        "\n",
        "print(f\"\\nFull matrix:\\n{np.cov(study_hours, exam_scores)}\")"
      ],
      "metadata": {
        "colab": {
          "base_uri": "https://localhost:8080/"
        },
        "id": "65fFSJQ9k41u",
        "outputId": "d4174b3c-42db-4952-81f4-6648b5ee134a"
      },
      "execution_count": 10,
      "outputs": [
        {
          "output_type": "stream",
          "name": "stdout",
          "text": [
            "Covariance (NumPy): 45.83\n",
            "\n",
            "Full matrix:\n",
            "[[  9.16666667  45.83333333]\n",
            " [ 45.83333333 229.16666667]]\n"
          ]
        }
      ]
    },
    {
      "cell_type": "markdown",
      "source": [
        "#### Method 3: Pandas"
      ],
      "metadata": {
        "id": "-OMyd_wyku82"
      }
    },
    {
      "cell_type": "code",
      "source": [
        "df = pd.DataFrame({'hours': study_hours, 'scores': exam_scores})\n",
        "cov_pandas = df['hours'].cov(df['scores'])\n",
        "print(f\"Covariance (Pandas): {cov_pandas:.2f}\")\n",
        "\n",
        "print(\"\\nCovariance Matrix:\")\n",
        "cov_matrix = df.cov()\n",
        "print(cov_matrix)"
      ],
      "metadata": {
        "colab": {
          "base_uri": "https://localhost:8080/"
        },
        "id": "cj7ODiV8lgfB",
        "outputId": "579f34cd-f51e-42e9-fd98-dd62086efe48"
      },
      "execution_count": 12,
      "outputs": [
        {
          "output_type": "stream",
          "name": "stdout",
          "text": [
            "Covariance (Pandas): 45.83\n",
            "\n",
            "Covariance Matrix:\n",
            "            hours      scores\n",
            "hours    9.166667   45.833333\n",
            "scores  45.833333  229.166667\n"
          ]
        }
      ]
    },
    {
      "cell_type": "markdown",
      "source": [
        "All methods give the same result of 45.83."
      ],
      "metadata": {
        "id": "9GDZnrSGo0Tw"
      }
    },
    {
      "cell_type": "markdown",
      "source": [
        "**Understanding the matrix:**\n",
        "- **Diagonal elements:** Variance of each variable (covariance with itself)\n",
        "- **Off-diagonal elements:** Covariance between variables"
      ],
      "metadata": {
        "id": "GQJ9CeF2VO9C"
      }
    },
    {
      "cell_type": "markdown",
      "source": [
        "### Limitations:\n",
        "\n",
        "1. Looking at the variance and covariance numbers, we can see that these can be hard to interpret. We get different covariance values because the units of covariance depend on the units of the variables being measured.\n",
        "2. The covariance value doesn't tell us the **STRENGTH** of the relationship, just the direction. Is a covariance of 45.83 strong or weak? We can't tell without context!"
      ],
      "metadata": {
        "id": "MUVEwZAy9vOK"
      }
    },
    {
      "cell_type": "markdown",
      "source": [
        "## 3. Understanding Correlation\n",
        "\n",
        "Imagine covariance as a rough compass that tells you if two variables move together or apart, but the numbers are messy and hard to interpret.\n",
        "\n",
        "**Correlation** takes that same information and standardizes it into a clean score between **-1 and +1**.\n",
        "\n",
        "We can think of it this way:\n",
        "- **Covariance:** \"These variables seem related, but I can't tell how strongly\"\n",
        "- **Correlation:** \"These variables have a strong/moderate/weak relationship\"\n",
        "\n",
        "Correlation solves the scale problem of covariance by **standardizing** it. It measures not just the **DIRECTION**, but also the **STRENGTH** of a relationship between variables.\n",
        "\n",
        "#### Key Properties:\n",
        "1. Ranges from **-1 to +1**\n",
        "2. **Independent of units** (standardized)\n",
        "3. **+1** means perfect positive relationship\n",
        "4. **-1** means perfect negative relationship\n",
        "5. **0** means no relationship\n",
        "\n",
        "#### Interpretation Guide:\n",
        "\n",
        "| Correlation Value | Strength |\n",
        "|-------------------|----------|\n",
        "| \\|r\\| = 0.00-0.19 | Very weak |\n",
        "| \\|r\\| = 0.20-0.39 | Weak |\n",
        "| \\|r\\| = 0.40-0.59 | Moderate |\n",
        "| \\|r\\| = 0.60-0.79 | Strong |\n",
        "| \\|r\\| = 0.80-1.00 | Very strong |"
      ],
      "metadata": {
        "id": "QiufRKmCv0Qi"
      }
    },
    {
      "cell_type": "markdown",
      "source": [
        "### Two Types of Correlation\n",
        "\n",
        "There are two main types of correlation, each suited for different situations:\n",
        "\n",
        "1. **PEARSON CORRELATION** - Measures LINEAR relationships\n",
        "2. **SPEARMAN CORRELATION** - Measures MONOTONIC relationships"
      ],
      "metadata": {
        "id": "jI7ExBTyyO4t"
      }
    },
    {
      "cell_type": "markdown",
      "source": [
        "### 3.1 Pearson Correlation\n",
        "\n",
        "**Pearson correlation** measures the strength and direction of **LINEAR** relationships. It answers: *\"How close do these points fall to a straight line?\"*\n",
        "\n",
        "#### Formula:\n",
        "\n",
        "```\n",
        "r = Cov(X,Y) / (σX × σY)\n",
        "```\n",
        "\n",
        "Where:\n",
        "- Cov(X,Y) is the covariance\n",
        "- σX and σY are the standard deviations of X and Y\n",
        "\n",
        "*This is essentially standardized covariance!*\n",
        "\n",
        "#### Best Used When:\n",
        "- Relationship is expected to be **linear**\n",
        "- Data is **continuous**\n",
        "- Variables are **normally distributed** (approximately)\n",
        "- **No significant outliers**"
      ],
      "metadata": {
        "id": "akbqHzMiyd62"
      }
    },
    {
      "cell_type": "markdown",
      "source": [
        "#### Some Ways to Calculate Pearson Correlation"
      ],
      "metadata": {
        "id": "1ccYYwxCzbn_"
      }
    },
    {
      "cell_type": "markdown",
      "source": [
        "#### Method 1: Manual Calculation\n",
        "**Formula:** Correlation = Covariance / (σX × σY)"
      ],
      "metadata": {
        "id": "Y0Anj4sVzfSA"
      }
    },
    {
      "cell_type": "code",
      "source": [
        "std_hours = np.std(study_hours, ddof=1) # ddof=1 for sample std\n",
        "std_scores = np.std(exam_scores, ddof=1)\n",
        "corr_manual = cov_manual / (std_hours * std_scores)\n",
        "print(f\"Correlation (Manual): {corr_manual:.2f}\")"
      ],
      "metadata": {
        "colab": {
          "base_uri": "https://localhost:8080/"
        },
        "id": "7QMDXmaD-LpQ",
        "outputId": "241b8542-570f-48a0-ff0c-7b482af0777b"
      },
      "execution_count": 18,
      "outputs": [
        {
          "output_type": "stream",
          "name": "stdout",
          "text": [
            "Correlation (Manual): 1.00\n"
          ]
        }
      ]
    },
    {
      "cell_type": "markdown",
      "source": [
        "#### Method 2: NumPy `corrcoef()` function"
      ],
      "metadata": {
        "id": "v_8iyNsl0B4F"
      }
    },
    {
      "cell_type": "code",
      "source": [
        "corr_numpy = np.corrcoef(study_hours, exam_scores)[0, 1]  # [0, 1] to get the correlation value\n",
        "print(f\"Correlation (NumPy): {corr_numpy:.2f}\")"
      ],
      "metadata": {
        "colab": {
          "base_uri": "https://localhost:8080/"
        },
        "id": "Q6IWrQUi0sjh",
        "outputId": "38d15886-c542-4f02-b617-ccf5a184d9c1"
      },
      "execution_count": 17,
      "outputs": [
        {
          "output_type": "stream",
          "name": "stdout",
          "text": [
            "Correlation (NumPy): 1.00\n"
          ]
        }
      ]
    },
    {
      "cell_type": "markdown",
      "source": [
        "#### Method 3: Pandas `.corr()` function"
      ],
      "metadata": {
        "id": "JvN6XenT-KWK"
      }
    },
    {
      "cell_type": "code",
      "source": [
        "corr_pandas = df['hours'].corr(df['scores'])\n",
        "print(f\"Correlation (Pandas): {corr_pandas:.2f}\")\n",
        "\n",
        "# Correlation Matrix\n",
        "corr_matrix = df.corr()\n",
        "print(\"\\nCorrelation Matrix:\")\n",
        "print(corr_matrix)"
      ],
      "metadata": {
        "colab": {
          "base_uri": "https://localhost:8080/"
        },
        "id": "lLIAURvT1EAo",
        "outputId": "6b03f55c-504c-4574-b583-eed2f8f32b08"
      },
      "execution_count": 21,
      "outputs": [
        {
          "output_type": "stream",
          "name": "stdout",
          "text": [
            "Correlation (Pandas): 1.00\n",
            "\n",
            "Correlation Matrix:\n",
            "        hours  scores\n",
            "hours     1.0     1.0\n",
            "scores    1.0     1.0\n"
          ]
        }
      ]
    },
    {
      "cell_type": "markdown",
      "source": [
        "#### Method 4: SciPy pearsonr() (with p-value)"
      ],
      "metadata": {
        "id": "M44Fov231mSb"
      }
    },
    {
      "cell_type": "code",
      "source": [
        "from scipy.stats import pearsonr\n",
        "corr_scipy, p_value = pearsonr(study_hours, exam_scores)\n",
        "print(f\"Correlation (SciPy): {corr_scipy:.2f}\")\n",
        "print(f\"p-value: {p_value:.4f}\")"
      ],
      "metadata": {
        "colab": {
          "base_uri": "https://localhost:8080/"
        },
        "id": "dzPZgVKy1l8I",
        "outputId": "8f0e3642-04d9-4074-cba2-7935ceca039e"
      },
      "execution_count": 22,
      "outputs": [
        {
          "output_type": "stream",
          "name": "stdout",
          "text": [
            "Correlation (SciPy): 1.00\n",
            "p-value: 0.0000\n"
          ]
        }
      ]
    },
    {
      "cell_type": "markdown",
      "source": [
        "**Interpretation:** p < 0.05 means statistically significant\n",
        "\n",
        "**Note:** All methods give the same result!"
      ],
      "metadata": {
        "id": "hj5PjEPE10FZ"
      }
    },
    {
      "cell_type": "markdown",
      "source": [
        "### Pearson Correlation Limitations:\n",
        "\n",
        "1. It expects linear relationship between variables.\n",
        "2. It is sensitive to outliers as extreme values can significantly change the correlation."
      ],
      "metadata": {
        "id": "n2vwZSHB_q_K"
      }
    },
    {
      "cell_type": "markdown",
      "source": [
        "### 3.2 Spearman Correlation\n",
        "\n",
        "**Spearman correlation** measures the strength and direction of **MONOTONIC** relationships. It answers: *\"Do these variables consistently move together in the same direction?\"*\n",
        "\n",
        "#### A Monotonic Relationship Means:\n",
        "- When one variable increases, the other **consistently increases** (or decreases)\n",
        "- But **NOT necessarily at a constant rate**\n",
        "\n",
        "#### How it Works:\n",
        "1. **Convert actual values to ranks** (1st, 2nd, 3rd, etc.)\n",
        "2. **Calculate Pearson correlation on the ranks**\n",
        "3. This makes it **insensitive to the scale of values**\n",
        "\n",
        "### Best Used When:\n",
        "- Relationship is **monotonic but not linear**\n",
        "- Data is **ordinal (ranked)**\n",
        "- Data contains **outliers**\n",
        "- Distribution is **skewed or non-normal**"
      ],
      "metadata": {
        "id": "62M-kVfp-Miy"
      }
    },
    {
      "cell_type": "markdown",
      "source": [
        "#### Some Ways to Calculate Spearman Correlation"
      ],
      "metadata": {
        "id": "-pp1VaroOkX1"
      }
    },
    {
      "cell_type": "markdown",
      "source": [
        "#### Method 1: Manual Using Rank Transformation\n",
        "\n",
        "Convert values to ranks, then calculates Pearson on ranks."
      ],
      "metadata": {
        "id": "bXt2RjmoBi-i"
      }
    },
    {
      "cell_type": "code",
      "source": [
        "from scipy.stats import rankdata\n",
        "\n",
        "x_demo = np.array([10, 20, 30, 40, 50])\n",
        "y_demo = np.array([1, 4, 9, 16, 25])  # Non-linear but monotonic\n",
        "\n",
        "x_ranks = rankdata(x_demo)\n",
        "y_ranks = rankdata(y_demo)\n",
        "spearman_manual = np.corrcoef(x_ranks, y_ranks)[0, 1]\n",
        "\n",
        "print(f\"  Original values:\")\n",
        "print(f\"    X: {x_demo}\")\n",
        "print(f\"    Y: {y_demo}\")\n",
        "print(f\"  Converted to ranks:\")\n",
        "print(f\"    X ranks: {x_ranks}\")\n",
        "print(f\"    Y ranks: {y_ranks}\")\n",
        "\n",
        "print(f\"\\nSpearman Correlation (Manual): {spearman_manual:.2f}\")"
      ],
      "metadata": {
        "colab": {
          "base_uri": "https://localhost:8080/"
        },
        "id": "Cq7DRfuqT3d1",
        "outputId": "b95c8142-cd07-4254-cc5f-44514ab8dd12"
      },
      "execution_count": 26,
      "outputs": [
        {
          "output_type": "stream",
          "name": "stdout",
          "text": [
            "  Original values:\n",
            "    X: [10 20 30 40 50]\n",
            "    Y: [ 1  4  9 16 25]\n",
            "  Converted to ranks:\n",
            "    X ranks: [1. 2. 3. 4. 5.]\n",
            "    Y ranks: [1. 2. 3. 4. 5.]\n",
            "\n",
            "Spearman Correlation (Manual): 1.00\n"
          ]
        }
      ]
    },
    {
      "cell_type": "markdown",
      "source": [
        "#### Method 2: SciPy spearmanr()"
      ],
      "metadata": {
        "id": "XSejzuCxCv7S"
      }
    },
    {
      "cell_type": "code",
      "source": [
        "from scipy.stats import spearmanr\n",
        "\n",
        "corr, p_value = spearmanr(x_demo, y_demo)\n",
        "print(f\"Spearman Correlation (SciPy): {corr:.2f}\")\n",
        "print(f\"p-value: {p_value:.4f}\")"
      ],
      "metadata": {
        "colab": {
          "base_uri": "https://localhost:8080/"
        },
        "id": "moSr3Ew0yVr8",
        "outputId": "bff808e3-9cec-4954-828a-78279bd12735"
      },
      "execution_count": 28,
      "outputs": [
        {
          "output_type": "stream",
          "name": "stdout",
          "text": [
            "Spearman Correlation (SciPy): 1.00\n",
            "p-value: 0.0000\n"
          ]
        }
      ]
    },
    {
      "cell_type": "markdown",
      "source": [
        "#### Method 3: Pandas with method='spearman'"
      ],
      "metadata": {
        "id": "oTlg9jjFzYND"
      }
    },
    {
      "cell_type": "code",
      "source": [
        "df_demo = pd.DataFrame({'x': x_demo, 'y': y_demo})\n",
        "spearman_pandas = df_demo['x'].corr(df_demo['y'], method='spearman')\n",
        "print(f\"Spearman Correlation (Pandas): {spearman_pandas:.2f}\")\n",
        "\n",
        "# Pandas correlation matrix with Spearman\n",
        "spearman_matrix = df_demo.corr(method='spearman')\n",
        "print(\"\\nSpearman Correlation Matrix:\")\n",
        "print(spearman_matrix)"
      ],
      "metadata": {
        "colab": {
          "base_uri": "https://localhost:8080/"
        },
        "id": "n3IJ2VPND5Bo",
        "outputId": "4515dbf2-d760-4e11-f947-edba9a39602b"
      },
      "execution_count": 32,
      "outputs": [
        {
          "output_type": "stream",
          "name": "stdout",
          "text": [
            "Spearman Correlation (Pandas): 1.00\n",
            "\n",
            "Spearman Correlation Matrix:\n",
            "     x    y\n",
            "x  1.0  1.0\n",
            "y  1.0  1.0\n"
          ]
        }
      ]
    },
    {
      "cell_type": "markdown",
      "source": [
        "All methods give the same result!"
      ],
      "metadata": {
        "id": "Xac_AFQYD4ds"
      }
    },
    {
      "cell_type": "markdown",
      "source": [
        "Spearman Correlation Limitations:\n",
        "\n",
        "1. It expects the relationship between variables to be monotonic.\n",
        "2. By converting to ranks, it loses the magnitude information as the difference between 1-2 and 99-100 is treated the same.\n",
        "3. Variables must have a clear ordering."
      ],
      "metadata": {
        "id": "JpvdFXbFsf7o"
      }
    },
    {
      "cell_type": "markdown",
      "source": [
        "## 4. Covariance vs Correlation: Key Differences\n"
      ],
      "metadata": {
        "id": "144s3Pzt7ZTh"
      }
    },
    {
      "cell_type": "markdown",
      "source": [
        "#### Side-by-Side Comparison\n",
        "\n",
        "| Property | Covariance | Correlation |\n",
        "|----------|------------|-------------|\n",
        "| **Range** | -∞ to +∞ | -1 to +1 |\n",
        "| **Unit Dependent** | Yes | No (standardized) |\n",
        "| **Interpretability** | Difficult | Easy |\n",
        "| **Shows Direction** | Yes | Yes |\n",
        "| **Shows Strength** | No | Yes |\n",
        "| **Scale Invariant** | No | Yes |"
      ],
      "metadata": {
        "id": "lfdwy_OXIDvQ"
      }
    },
    {
      "cell_type": "markdown",
      "source": [
        "#### The Mathematical Relationship:\n",
        "\n",
        "```\n",
        "Correlation = Covariance / (Standard Deviation of X × Standard Deviation of Y)\n",
        "```\n",
        "\n",
        "*In other words: Correlation is just standardized covariance!*"
      ],
      "metadata": {
        "id": "bvUYAmGgIRs3"
      }
    },
    {
      "cell_type": "markdown",
      "source": [
        "#### Why Correlation Wins for Interpretation\n",
        "\n",
        "**Example:**\n",
        "\n",
        "**Scenario 1 (small numbers):**\n",
        "- X: [1, 2, 3, 4, 5]\n",
        "- Y: [2, 4, 6, 8, 10]\n",
        "- Covariance: 5.00\n",
        "- Correlation: 1.000\n",
        "\n",
        "**Scenario 2 (same pattern, larger scale):**\n",
        "- X: [1000, 2000, 3000, 4000, 5000]\n",
        "- Y: [2000, 4000, 6000, 8000, 10000]\n",
        "- Covariance: 5,000,000.00\n",
        "- Correlation: 1.000\n",
        "\n",
        "**Observation:**\n",
        "- Covariances differ by a factor of **1,000,000×**\n",
        "- Correlations are **identical: 1.000 = 1.000**\n",
        "\n",
        "**Conclusion:** Correlation correctly identifies that the **RELATIONSHIP is identical**, regardless of scale. Covariance is scale-dependent!\n"
      ],
      "metadata": {
        "id": "8YqYWwWGIpwa"
      }
    },
    {
      "cell_type": "code",
      "source": [
        "# Create two scenarios with same correlation but different covariances\n",
        "scenario1_x = np.array([1, 2, 3, 4, 5])\n",
        "scenario1_y = np.array([2, 4, 6, 8, 10])\n",
        "\n",
        "scenario2_x = scenario1_x * 1000  # Scale up by 1000\n",
        "scenario2_y = scenario1_y * 1000  # Scale up by 1000\n",
        "\n",
        "cov1 = np.cov(scenario1_x, scenario1_y)[0, 1]\n",
        "cov2 = np.cov(scenario2_x, scenario2_y)[0, 1]\n",
        "corr1 = np.corrcoef(scenario1_x, scenario1_y)[0, 1]\n",
        "corr2 = np.corrcoef(scenario2_x, scenario2_y)[0, 1]\n",
        "print(f\"Scenario 1 - Covariance: {cov1:.2f}, Correlation: {corr1:.3f}\")\n",
        "print(f\"Scenario 2 - Covariance: {cov2:.2f}, Correlation: {corr2:.3f}\")\n",
        "\n"
      ],
      "metadata": {
        "colab": {
          "base_uri": "https://localhost:8080/"
        },
        "id": "GBwtA4xj7tRl",
        "outputId": "81ad8055-b939-4e33-9923-b6e9635b5a1f"
      },
      "execution_count": 34,
      "outputs": [
        {
          "output_type": "stream",
          "name": "stdout",
          "text": [
            "Scenario 1 - Covariance: 5.00, Correlation: 1.000\n",
            "Scenario 2 - Covariance: 5000000.00, Correlation: 1.000\n"
          ]
        }
      ]
    },
    {
      "cell_type": "markdown",
      "source": [
        "## 5. When to Use Which Measure\n",
        "\n",
        "#### LEVEL 1: Covariance vs Correlation\n",
        "\n",
        "##### Use COVARIANCE when:\n",
        "- We need the **actual units**\n",
        "- We're calculating other statistics that **require covariance**\n",
        "- Variables are on the **same scale** already\n",
        "\n",
        "##### Use CORRELATION when:\n",
        "- We want to understand **relationship strength**\n",
        "- We're **comparing relationships** across different variable pairs\n",
        "- We need to communicate findings to **non-technical audiences**\n",
        "- Variables are on **different scales**\n",
        "- We're doing **exploratory data analysis (EDA)**\n",
        "- We need a **standardized, interpretable** measure\n",
        "\n",
        "#### LEVEL 2: Pearson vs Spearman Correlation\n",
        "\n",
        "##### Use PEARSON when:\n",
        "- Relationship is expected to be **linear**\n",
        "- Data is **continuous and normally distributed**\n",
        "- **No significant outliers** present\n",
        "- We need to test for **linear association**\n",
        "\n",
        "##### Use SPEARMAN when:\n",
        "- Relationship is **monotonic but not necessarily linear**\n",
        "- Data is **ordinal (ranked)**\n",
        "- Data contains **outliers**\n",
        "- Distribution is **skewed or non-normal**"
      ],
      "metadata": {
        "id": "0wgqofhU9uup"
      }
    },
    {
      "cell_type": "markdown",
      "source": [
        "## Key Takeaways\n",
        "\n",
        "##### 1. COVARIANCE measures the direction of relationship between two variables\n",
        "- Range: -∞ to +∞\n",
        "- Scale-dependent (units matter)\n",
        "- Hard to interpret strength\n",
        "\n",
        "##### 2. CORRELATION measures both direction AND strength of relationship\n",
        "- Range: -1 to +1\n",
        "- Scale-independent (standardized)\n",
        "- Easy to interpret\n",
        "- Mathematical relationship: **Correlation = Covariance / (σX × σY)**\n",
        "\n",
        "##### 3. PEARSON CORRELATION measures linear relationships\n",
        "- Best for: Continuous data, linear patterns, normally distributed\n",
        "- Sensitive to: Outliers\n",
        "\n",
        "##### 4. SPEARMAN CORRELATION measures monotonic relationships\n",
        "- Based on: Rank order of values (not actual values)\n",
        "- Best for: Ordinal data, non-linear monotonic patterns\n",
        "- Robust to: Outliers and non-normal distributions\n",
        "- Essentially: Pearson correlation applied to ranks\n",
        "\n",
        "##### 5. PRACTICAL DECISION MAKING:\n",
        "- Default to correlation over covariance (more interpretable)\n",
        "- Start with Pearson for linear relationships\n",
        "- Use Spearman when data has outliers or non-linear monotonic patterns\n",
        "- When in doubt, calculate both and compare\n",
        "- Large differences between Pearson and Spearman indicate non-linearity or outliers\n"
      ],
      "metadata": {
        "id": "Dei-NksScc8r"
      }
    }
  ]
}